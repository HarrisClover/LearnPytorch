{
 "cells": [
  {
   "cell_type": "code",
   "execution_count": 10,
   "metadata": {},
   "outputs": [],
   "source": [
    "from torch.utils.data import Dataset\n",
    "from PIL import Image\n",
    "import os"
   ]
  },
  {
   "cell_type": "code",
   "execution_count": null,
   "metadata": {},
   "outputs": [],
   "source": [
    "dir_path = \"hymenoptera_data\\\\train\\\\ants\"\n",
    "img_ants_list = os.listdir(dir_path)\n",
    "path = os.path.join(dir_path,img_ants_list[0])\n",
    "img = Image.open(path)\n",
    "img.show()"
   ]
  },
  {
   "cell_type": "code",
   "execution_count": 16,
   "id": "987e414e",
   "metadata": {},
   "outputs": [
    {
     "data": {
      "text/plain": [
       "'0013035.jpg'"
      ]
     },
     "execution_count": 16,
     "metadata": {},
     "output_type": "execute_result"
    }
   ],
   "source": [
    "root_dir = \"hymenoptera_data\\\\train\"\n",
    "label_dir = \"ants\"\n",
    "path = os.path.join(root_dir,label_dir)\n",
    "img_list = os.listdir(path)\n",
    "img_list[0]"
   ]
  },
  {
   "cell_type": "code",
   "execution_count": 18,
   "id": "f240101e",
   "metadata": {},
   "outputs": [],
   "source": [
    "index = 0\n",
    "img_name = img_list[index]\n",
    "img_item_path = os.path.join(path,img_name)\n",
    "img2 = Image.open(img_item_path)\n",
    "img2.show()"
   ]
  },
  {
   "cell_type": "code",
   "execution_count": null,
   "metadata": {},
   "outputs": [],
   "source": [
    "len(img_list)"
   ]
  },
  {
   "cell_type": "code",
   "execution_count": 39,
   "id": "a28c635d",
   "metadata": {},
   "outputs": [],
   "source": [
    "from torch.utils.data import Dataset\n",
    "from PIL import Image\n",
    "import os\n",
    "\n",
    "class OurData(Dataset):\n",
    "    i = 0 \n",
    "    def __init__(self,root_dir,label_dir) -> None: #初始化根目录和标签路径\n",
    "        super().__init__()\n",
    "        self.root_dir = root_dir\n",
    "        self.label_dir = label_dir\n",
    "        self.path = os.path.join(self.root_dir,self.label_dir)\n",
    "        self.img_list = os.listdir(self.path)\n",
    "\n",
    "    def __getitem__(self, index): #获得每一个图片及其标签\n",
    "        img_name = self.img_list[index]\n",
    "        img_item_path = os.path.join(self.path,img_name)\n",
    "        img = Image.open(img_item_path)\n",
    "        label = self.label_dir\n",
    "        return img,label\n",
    "    \n",
    "    def __len__(self): #数据集有多长\n",
    "        lmg_list = self.img_list\n",
    "        return len(lmg_list)\n",
    "\n",
    "root_dir = \"hymenoptera_data\\\\train\"\n",
    "ants_label_dir = \"ants\"\n",
    "bees_label_dir = \"bees\"\n",
    "ants_dataset = OurData(root_dir,ants_label_dir)\n",
    "bees_dataset = OurData(root_dir,bees_label_dir)"
   ]
  },
  {
   "cell_type": "code",
   "execution_count": 40,
   "id": "b2bae8ad",
   "metadata": {},
   "outputs": [],
   "source": [
    "train_dataset = ants_dataset + bees_dataset\n",
    "train_dataset.__len__()\n",
    "img,label = train_dataset[124]\n",
    "img.show()"
   ]
  },
  {
   "cell_type": "code",
   "execution_count": 6,
   "id": "20106a8d",
   "metadata": {},
   "outputs": [
    {
     "name": "stdout",
     "output_type": "stream",
     "text": [
      "<class 'PIL.JpegImagePlugin.JpegImageFile'>\n",
      "(512, 768, 3)\n"
     ]
    }
   ],
   "source": [
    "from PIL import Image\n",
    "import numpy as np\n",
    "img_path = \"hymenoptera_data\\\\train\\\\ants\\\\0013035.jpg\"\n",
    "img = Image.open(img_path)\n",
    "print(type(img))\n",
    "img_array = np.array(img)\n",
    "print(img_array.shape)"
   ]
  },
  {
   "cell_type": "code",
   "execution_count": null,
   "id": "81bb9109",
   "metadata": {},
   "outputs": [],
   "source": [
    "from torchvision import transforms\n",
    "from PIL import Image\n",
    "\n",
    "img_dir = \"hymenoptera_data\\\\train\\\\ants\\\\0013035.jpg\"\n",
    "img = Image.open(img_dir)\n",
    "tran = transforms.ToTensor()\n",
    "tensor_img = tran.__call__(img)\n",
    "print(tensor_img)"
   ]
  },
  {
   "cell_type": "code",
   "execution_count": null,
   "id": "ebad34eb",
   "metadata": {},
   "outputs": [],
   "source": [
    "import cv2\n"
   ]
  }
 ],
 "metadata": {
  "interpreter": {
   "hash": "0d146559e6140c7aac1aef5ddea6c45a17dfc40bc372ed90bb36e1a5ce618e9c"
  },
  "kernelspec": {
   "display_name": "Python 3.9.12 ('pytorch')",
   "language": "python",
   "name": "python3"
  },
  "language_info": {
   "codemirror_mode": {
    "name": "ipython",
    "version": 3
   },
   "file_extension": ".py",
   "mimetype": "text/x-python",
   "name": "python",
   "nbconvert_exporter": "python",
   "pygments_lexer": "ipython3",
   "version": "3.9.12"
  }
 },
 "nbformat": 4,
 "nbformat_minor": 5
}
